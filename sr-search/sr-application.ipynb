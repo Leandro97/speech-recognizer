{
 "cells": [
  {
   "cell_type": "markdown",
   "metadata": {},
   "source": [
    "## Imports\n",
    "\n",
    "\n",
    "Will need some python libraries to make our application work.\n",
    "- **speech_recognition** is the sound interface. It allows us to record microphone and call speech recognizers\n",
    "- **gtts** transcribes text to sound and saves it as a file (a mp3 file in our case)\n",
    "- **vlc** is used to play the audio in the notebook\n",
    "- We use **time** to wait between microphone recordings\n",
    "- With **webbrowser** we can open the default browser and send requests\n",
    "\n"
   ]
  },
  {
   "cell_type": "code",
   "execution_count": 1,
   "metadata": {},
   "outputs": [],
   "source": [
    "import speech_recognition as sr\n",
    "from gtts import gTTS\n",
    "import vlc\n",
    "import time\n",
    "import webbrowser"
   ]
  },
  {
   "cell_type": "markdown",
   "metadata": {},
   "source": [
    "## Playing a sound\n",
    "The playAudio function receives a text and plays it.\n",
    "First, with use of **gtts**, the text is converted to sound and saved on 'audio.mp3' file.\n",
    "Then **vlc** plays it to show the user what the recognizer picked up from the microphone."
   ]
  },
  {
   "cell_type": "code",
   "execution_count": 2,
   "metadata": {},
   "outputs": [],
   "source": [
    "def playAudio(text):\n",
    "    tts = gTTS(text, lang = 'pt-br')\n",
    "    tts.save('audio.mp3')\n",
    "    vlc.MediaPlayer('audio.mp3').play()\n",
    "    \n",
    "    time.sleep(1.3)"
   ]
  },
  {
   "cell_type": "markdown",
   "metadata": {},
   "source": [
    "## Performing the Search\n",
    "Here the transcribed text is used as parameter of a google search request."
   ]
  },
  {
   "cell_type": "code",
   "execution_count": 3,
   "metadata": {},
   "outputs": [],
   "source": [
    "def performSearch(text):\n",
    "    url = \"https://www.google.com.tr/search?q={}\".format(text)\n",
    "    webbrowser.open_new_tab(url)"
   ]
  },
  {
   "cell_type": "markdown",
   "metadata": {},
   "source": [
    "## Listening to the Microphone\n",
    "\n",
    "This function records the microphone and call the previous functions."
   ]
  },
  {
   "cell_type": "code",
   "execution_count": 4,
   "metadata": {},
   "outputs": [],
   "source": [
    "def listenMic():\n",
    "    rec = sr.Recognizer()\n",
    "    \n",
    "    with sr.Microphone() as source:\n",
    "        rec.adjust_for_ambient_noise(source) # smoothing ambient noise\n",
    "\n",
    "        vlc.MediaPlayer('beep.mp3').play() # ready signal\n",
    "        print(\"Ouvindo...\")\n",
    "        \n",
    "        audio  = rec.listen(source) # recording microphone\n",
    "        phrase = \"\"\n",
    "        \n",
    "        try:\n",
    "            phrase = rec.recognize_google(audio, language = 'pt-BR') # calling google's speech recognizer\n",
    "            phrase = phrase.lower()\n",
    "            \n",
    "            if phrase == (\"fechar aplicação\"): # closing phrase\n",
    "                playAudio(\"Adeus!\")\n",
    "                return phrase\n",
    "            \n",
    "            playAudio(\"Pesquisando: \" + phrase)\n",
    "            performSearch(phrase) \n",
    "        except sr.UnknownValueError:\n",
    "            playAudio(\"Não entendi\")\n",
    "        \n",
    "        return phrase"
   ]
  },
  {
   "cell_type": "markdown",
   "metadata": {},
   "source": [
    "## Putting it all together!"
   ]
  },
  {
   "cell_type": "code",
   "execution_count": null,
   "metadata": {},
   "outputs": [
    {
     "name": "stdout",
     "output_type": "stream",
     "text": [
      "Ouvindo...\n"
     ]
    }
   ],
   "source": [
    "currentSearch = \"\"\n",
    "\n",
    "while currentSearch != \"fechar aplicação\":\n",
    "    currentSearch = listenMic()\n",
    "    print()"
   ]
  }
 ],
 "metadata": {
  "kernelspec": {
   "display_name": "Python 3",
   "language": "python",
   "name": "python3"
  },
  "language_info": {
   "codemirror_mode": {
    "name": "ipython",
    "version": 3
   },
   "file_extension": ".py",
   "mimetype": "text/x-python",
   "name": "python",
   "nbconvert_exporter": "python",
   "pygments_lexer": "ipython3",
   "version": "3.7.3"
  }
 },
 "nbformat": 4,
 "nbformat_minor": 2
}
