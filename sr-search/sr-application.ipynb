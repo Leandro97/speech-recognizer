{
 "cells": [
  {
   "cell_type": "code",
   "execution_count": 1,
   "metadata": {},
   "outputs": [],
   "source": [
    "from gtts import gTTS\n",
    "import vlc\n",
    "import time\n",
    "\n",
    "def playAudio(audio):\n",
    "    tts = gTTS(audio,lang='pt-br')\n",
    "    tts.save('audio.mp3')\n",
    "    vlc.MediaPlayer('audio.mp3').play()\n",
    "    time.sleep(1.3)"
   ]
  },
  {
   "cell_type": "code",
   "execution_count": 2,
   "metadata": {},
   "outputs": [],
   "source": [
    "import speech_recognition as sr\n",
    "\n",
    "def listenMic():\n",
    "    rec = sr.Recognizer()\n",
    "    \n",
    "    with sr.Microphone() as source:\n",
    "        rec.adjust_for_ambient_noise(source)\n",
    "\n",
    "        vlc.MediaPlayer('beep.mp3').play()\n",
    "        print(\"Ouvindo...\")\n",
    "        audio  = rec.listen(source)\n",
    "        phrase = \"\"\n",
    "        \n",
    "        try:\n",
    "            phrase = rec.recognize_google(audio,language='pt-BR')\n",
    "            phrase = phrase.lower()\n",
    "            \n",
    "            if phrase == (\"fechar aplicação\"):\n",
    "                playAudio(\"Adeus!\")\n",
    "                return phrase\n",
    "            \n",
    "            playAudio(\"Pesquisando: \" + phrase)\n",
    "        except sr.UnknownValueError:\n",
    "            playAudio(\"Não entendi\")\n",
    "        \n",
    "        return phrase"
   ]
  },
  {
   "cell_type": "code",
   "execution_count": null,
   "metadata": {},
   "outputs": [
    {
     "name": "stdout",
     "output_type": "stream",
     "text": [
      "Ouvindo...\n",
      "\n",
      "Ouvindo...\n"
     ]
    }
   ],
   "source": [
    "currentSearch = \"\"\n",
    "\n",
    "while currentSearch != \"fechar aplicação\":\n",
    "    currentSearch = listenMic()\n",
    "    print()"
   ]
  }
 ],
 "metadata": {
  "kernelspec": {
   "display_name": "Python 3",
   "language": "python",
   "name": "python3"
  },
  "language_info": {
   "codemirror_mode": {
    "name": "ipython",
    "version": 3
   },
   "file_extension": ".py",
   "mimetype": "text/x-python",
   "name": "python",
   "nbconvert_exporter": "python",
   "pygments_lexer": "ipython3",
   "version": "3.7.3"
  }
 },
 "nbformat": 4,
 "nbformat_minor": 2
}
